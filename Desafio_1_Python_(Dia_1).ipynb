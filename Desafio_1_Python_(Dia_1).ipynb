{
  "nbformat": 4,
  "nbformat_minor": 0,
  "metadata": {
    "colab": {
      "name": "Data Science do Zero - Python (Dia 1) .ipynb",
      "provenance": []
    },
    "kernelspec": {
      "name": "python3",
      "display_name": "Python 3"
    }
  },
  "cells": [
    {
      "cell_type": "code",
      "metadata": {
        "id": "ILHNtBIq6KEE",
        "colab_type": "code",
        "colab": {}
      },
      "source": [
        "# DESAFIO PYTHON\n",
        "# Tendo como dados de entrada a altura de uma pessoa, construa um algoritmo que calcule seu peso ideal, usando a seguinte fórmula: (72.7*altura) - 58"
      ],
      "execution_count": 0,
      "outputs": []
    },
    {
      "cell_type": "code",
      "metadata": {
        "id": "JKw_Bt8H6o9c",
        "colab_type": "code",
        "outputId": "a55365e3-c83a-4ac7-9872-4966bc83fd5e",
        "colab": {
          "base_uri": "https://localhost:8080/",
          "height": 51
        }
      },
      "source": [
        "altura = float(input('Digite sua altura '))\n",
        "print(f'Seu peso ideal é {(72.7 * altura )-58}')"
      ],
      "execution_count": 0,
      "outputs": [
        {
          "output_type": "stream",
          "text": [
            "Digite sua altura 1.69\n",
            "Seu peso ideal é 64.863\n"
          ],
          "name": "stdout"
        }
      ]
    },
    {
      "cell_type": "code",
      "metadata": {
        "id": "OnEGemLI6rjB",
        "colab_type": "code",
        "colab": {}
      },
      "source": [
        "# DESAFIO CONDICIONAIS\n",
        "# Faça um Programa que pergunte em que turno você estuda. Peça para digitar M-matutino ou V-Vespertino ou N- Noturno. \n",
        "#Imprima a mensagem \"Bom Dia!\", \"Boa Tarde!\" ou \"Boa Noite!\" ou \"Valor Inválido!\", conforme o caso"
      ],
      "execution_count": 0,
      "outputs": []
    },
    {
      "cell_type": "code",
      "metadata": {
        "id": "eCvYdAxv6ufx",
        "colab_type": "code",
        "outputId": "fe501883-6e6a-44ba-f1eb-aa0f648e38a2",
        "colab": {
          "base_uri": "https://localhost:8080/",
          "height": 51
        }
      },
      "source": [
        "turno = input('Qual turno voce estuda, M-matutino ou V-Vespertino ou N- Noturno ').upper()\n",
        "\n",
        "if turno == \"M\":\n",
        "  print(\"Bom dia!\")\n",
        "elif turno == \"V\":\n",
        "  print(\"Boa tarde!\")\n",
        "elif turno == \"N\":\n",
        "  print(\"Boa noite\")\n",
        "else:\n",
        "  print(\"Valor Inválido!\")"
      ],
      "execution_count": 0,
      "outputs": [
        {
          "output_type": "stream",
          "text": [
            "Qual turno voce estuda, M-matutino ou V-Vespertino ou N- Noturno v\n",
            "Boa tarde!\n"
          ],
          "name": "stdout"
        }
      ]
    },
    {
      "cell_type": "code",
      "metadata": {
        "id": "_3ucFgn46yL-",
        "colab_type": "code",
        "colab": {}
      },
      "source": [
        "# DESAFIO REPETIÇÃO\n",
        "# A série de Fibonacci é formada pela seqüência 1,1,2,3,5,8,13,21,34,55,... Faça um programa capaz de gerar a série até o n−ésimo termo.\n",
        "# qual numero voce deseja receber a sequencia fibonacci? "
      ],
      "execution_count": 0,
      "outputs": []
    },
    {
      "cell_type": "code",
      "metadata": {
        "id": "5FG4VrkA617p",
        "colab_type": "code",
        "outputId": "19f2d85f-f28d-41f4-c826-e3b0a3b209f5",
        "colab": {
          "base_uri": "https://localhost:8080/",
          "height": 238
        }
      },
      "source": [
        "numero = int(input(\"Digite o numero que deseja receber a sequencia de fibonacci \"))\n",
        "\n",
        "anterior = 0\n",
        "proximo = 0\n",
        "while(proximo < numero):\n",
        "  print(proximo)\n",
        "  proximo = proximo + anterior\n",
        "  anterior = proximo - anterior\n",
        "  if(proximo == 0):\n",
        "    proximo = proximo + 1"
      ],
      "execution_count": 0,
      "outputs": [
        {
          "output_type": "stream",
          "text": [
            "Digite o numero que deseja receber a sequencia de fibonacci 100\n",
            "0\n",
            "1\n",
            "1\n",
            "2\n",
            "3\n",
            "5\n",
            "8\n",
            "13\n",
            "21\n",
            "34\n",
            "55\n",
            "89\n"
          ],
          "name": "stdout"
        }
      ]
    },
    {
      "cell_type": "code",
      "metadata": {
        "id": "DTi4_Dj069hW",
        "colab_type": "code",
        "colab": {}
      },
      "source": [
        "# DESAFIO FUNÇÕES\n",
        "# Reverso do número. Faça uma função que retorne o reverso de um número inteiro informado. Por exemplo: 127 -> 721."
      ],
      "execution_count": 0,
      "outputs": []
    },
    {
      "cell_type": "code",
      "metadata": {
        "id": "PSxLHb5k6-K5",
        "colab_type": "code",
        "outputId": "6e8961a6-f88e-46ee-e014-f8cc3d5453d1",
        "colab": {
          "base_uri": "https://localhost:8080/",
          "height": 68
        }
      },
      "source": [
        "numero = int(input(\"Entre com o numero... \"));\n",
        "print(\"Numero informado \",numero)\n",
        "Invertido = int(str(numero)[::-1]);\n",
        "print(\"O numero invertido: \",Invertido)"
      ],
      "execution_count": 0,
      "outputs": [
        {
          "output_type": "stream",
          "text": [
            "Entre com o numero... 951\n",
            "Numero informado  951\n",
            "O numero invertido:  159\n"
          ],
          "name": "stdout"
        }
      ]
    }
  ]
}