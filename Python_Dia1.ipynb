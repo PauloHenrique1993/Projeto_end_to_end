{
  "nbformat": 4,
  "nbformat_minor": 0,
  "metadata": {
    "colab": {
      "name": "Python Dia1.ipynb",
      "provenance": [],
      "collapsed_sections": []
    },
    "kernelspec": {
      "name": "python3",
      "display_name": "Python 3"
    }
  },
  "cells": [
    {
      "cell_type": "markdown",
      "metadata": {
        "id": "l16RNmVia3Gq",
        "colab_type": "text"
      },
      "source": [
        "# Python\n",
        "\n",
        "---\n",
        "\n"
      ]
    },
    {
      "cell_type": "markdown",
      "metadata": {
        "id": "blkXmaN4bwzU",
        "colab_type": "text"
      },
      "source": [
        "## Seu primeiro programa 🐣"
      ]
    },
    {
      "cell_type": "code",
      "metadata": {
        "id": "vBNGWECAa0eC",
        "colab_type": "code",
        "outputId": "4d5b8a27-dcd9-4430-a38c-9aa9a8cf7587",
        "colab": {
          "base_uri": "https://localhost:8080/",
          "height": 51
        }
      },
      "source": [
        "nome = input(\"Qual é o seu nome? \")\n",
        "print(f\"Hello {nome}\")"
      ],
      "execution_count": 0,
      "outputs": [
        {
          "output_type": "stream",
          "text": [
            "Qual é o seu nome? Paulo\n",
            "Hello Paulo\n"
          ],
          "name": "stdout"
        }
      ]
    },
    {
      "cell_type": "markdown",
      "metadata": {
        "id": "fF86Y11CcH-t",
        "colab_type": "text"
      },
      "source": [
        "## Operadores\n",
        "### Aritméticos:\n",
        "![alt text](https://image.slidesharecdn.com/introduoapython-iijtims-mdulo1-131108230122-phpapp01/95/introduo-python-mdulo-1-46-638.jpg?cb=1383951826)\n",
        "### Lógicos:\n",
        "![alt text](https://image.slidesharecdn.com/apresentao-170510192311/95/captulo-2-python-6-638.jpg?cb=1494444228)"
      ]
    },
    {
      "cell_type": "code",
      "metadata": {
        "id": "9KiF8V3ocQZM",
        "colab_type": "code",
        "colab": {}
      },
      "source": [
        "# SOMA\n",
        "1+1"
      ],
      "execution_count": 0,
      "outputs": []
    },
    {
      "cell_type": "code",
      "metadata": {
        "id": "LX-sHjk2cS_m",
        "colab_type": "code",
        "colab": {}
      },
      "source": [
        "# SUBTRAÇÃO\n",
        "1-1"
      ],
      "execution_count": 0,
      "outputs": []
    },
    {
      "cell_type": "code",
      "metadata": {
        "id": "4E7cwx1OcU9R",
        "colab_type": "code",
        "outputId": "a27265b2-133b-4c43-bbcc-8e5a95d9716c",
        "colab": {
          "base_uri": "https://localhost:8080/",
          "height": 34
        }
      },
      "source": [
        "# MULTIPLICAÇÃO\n",
        "1*10"
      ],
      "execution_count": 0,
      "outputs": [
        {
          "output_type": "execute_result",
          "data": {
            "text/plain": [
              "10"
            ]
          },
          "metadata": {
            "tags": []
          },
          "execution_count": 4
        }
      ]
    },
    {
      "cell_type": "code",
      "metadata": {
        "id": "fPVGehO0cXAn",
        "colab_type": "code",
        "outputId": "6af1cf49-1da6-44e3-9a4a-dff4921e4467",
        "colab": {
          "base_uri": "https://localhost:8080/",
          "height": 34
        }
      },
      "source": [
        "# DIVISÃO\n",
        "100 % 3"
      ],
      "execution_count": 0,
      "outputs": [
        {
          "output_type": "execute_result",
          "data": {
            "text/plain": [
              "1"
            ]
          },
          "metadata": {
            "tags": []
          },
          "execution_count": 5
        }
      ]
    },
    {
      "cell_type": "code",
      "metadata": {
        "id": "4G7MTi1IcZ1K",
        "colab_type": "code",
        "outputId": "b689d3e9-ee07-41fb-8269-6b80181b76b9",
        "colab": {
          "base_uri": "https://localhost:8080/",
          "height": 34
        }
      },
      "source": [
        "# EXPONENCIAÇÃO\n",
        "4**2"
      ],
      "execution_count": 0,
      "outputs": [
        {
          "output_type": "execute_result",
          "data": {
            "text/plain": [
              "16"
            ]
          },
          "metadata": {
            "tags": []
          },
          "execution_count": 6
        }
      ]
    },
    {
      "cell_type": "code",
      "metadata": {
        "id": "5WZgLLHDdCcx",
        "colab_type": "code",
        "colab": {}
      },
      "source": [
        "# DESAFIO PYTHON\n",
        "# Tendo como dados de entrada a altura de uma pessoa, construa um algoritmo que calcule seu peso ideal, usando a seguinte fórmula: (72.7*altura) - 58"
      ],
      "execution_count": 0,
      "outputs": []
    },
    {
      "cell_type": "markdown",
      "metadata": {
        "id": "iSVkee19DfVK",
        "colab_type": "text"
      },
      "source": [
        "## Tipos de Dados\n",
        "\n",
        "---\n",
        "\n",
        "* Inteiros:  declarados com **int()**\n",
        "<br>\n",
        "Exemplo de inteiros: 4, -234455, 21543...\n",
        "<br><br>\n",
        "* Flutuantes:  conhecidos como floating, são números decimais, declarados com **float()**\n",
        "<br>\n",
        "Exemplo de flutuantes: 4.0, -23.5, 215.43\n",
        "<br><br>\n",
        "* Booleanos:  conhecidos como lógicos, temos \"True\" ou \"False\", declarados com **bool()**\n",
        "<br>\n",
        "Exemplo de booleanos: True, False\n",
        "<br><br>\n",
        "* Strings:  conhecidos como cadeia de caracteres, inseridos entre aspas(duplas ou simples), declarados com **str()**\n",
        "<br>\n",
        "Exemplo de strings: \"oi!\", \"27\", \"23.50\""
      ]
    },
    {
      "cell_type": "code",
      "metadata": {
        "id": "OlMlroryFdgo",
        "colab_type": "code",
        "outputId": "f8ccc7f4-2a9c-40ca-ae4c-095c694337a4",
        "colab": {
          "base_uri": "https://localhost:8080/",
          "height": 34
        }
      },
      "source": [
        "inteiro = 12\n",
        "type(inteiro)"
      ],
      "execution_count": 0,
      "outputs": [
        {
          "output_type": "execute_result",
          "data": {
            "text/plain": [
              "int"
            ]
          },
          "metadata": {
            "tags": []
          },
          "execution_count": 8
        }
      ]
    },
    {
      "cell_type": "code",
      "metadata": {
        "id": "RzwqRmHBFpf3",
        "colab_type": "code",
        "outputId": "0983af43-e6c8-4e1b-e273-5e40e001b811",
        "colab": {
          "base_uri": "https://localhost:8080/",
          "height": 34
        }
      },
      "source": [
        "flutuante = 12.5\n",
        "type(flutuante)"
      ],
      "execution_count": 0,
      "outputs": [
        {
          "output_type": "execute_result",
          "data": {
            "text/plain": [
              "float"
            ]
          },
          "metadata": {
            "tags": []
          },
          "execution_count": 9
        }
      ]
    },
    {
      "cell_type": "code",
      "metadata": {
        "id": "4_ZeW7grFpos",
        "colab_type": "code",
        "outputId": "83f6b215-96a3-4353-cf4a-a5afd53087f9",
        "colab": {
          "base_uri": "https://localhost:8080/",
          "height": 34
        }
      },
      "source": [
        "booleano = True\n",
        "type(booleano)"
      ],
      "execution_count": 0,
      "outputs": [
        {
          "output_type": "execute_result",
          "data": {
            "text/plain": [
              "bool"
            ]
          },
          "metadata": {
            "tags": []
          },
          "execution_count": 10
        }
      ]
    },
    {
      "cell_type": "code",
      "metadata": {
        "id": "Wq9c8PjfFpyo",
        "colab_type": "code",
        "outputId": "c1f2aa67-1d3f-4264-da3c-a59515e08885",
        "colab": {
          "base_uri": "https://localhost:8080/",
          "height": 34
        }
      },
      "source": [
        "caracter = \"Olá, mundo!\"\n",
        "type(caracter)"
      ],
      "execution_count": 0,
      "outputs": [
        {
          "output_type": "execute_result",
          "data": {
            "text/plain": [
              "str"
            ]
          },
          "metadata": {
            "tags": []
          },
          "execution_count": 11
        }
      ]
    },
    {
      "cell_type": "markdown",
      "metadata": {
        "id": "xQCkO867cpu1",
        "colab_type": "text"
      },
      "source": [
        "## Condicionais"
      ]
    },
    {
      "cell_type": "code",
      "metadata": {
        "id": "1dccn0dLcsG2",
        "colab_type": "code",
        "outputId": "26191936-7d8a-4354-fa9d-8edf83ca2ec9",
        "colab": {
          "base_uri": "https://localhost:8080/",
          "height": 34
        }
      },
      "source": [
        "# IF\n",
        "if 100 > 99:\n",
        "  print(\"100 é maior que 99!\")"
      ],
      "execution_count": 0,
      "outputs": [
        {
          "output_type": "stream",
          "text": [
            "100 é maior que 99!\n"
          ],
          "name": "stdout"
        }
      ]
    },
    {
      "cell_type": "code",
      "metadata": {
        "id": "k56YVoZIddjj",
        "colab_type": "code",
        "outputId": "abd5e5d0-28b1-46d2-edd0-54dc704c459b",
        "colab": {
          "base_uri": "https://localhost:8080/",
          "height": 34
        }
      },
      "source": [
        "# IF, ELSE\n",
        "if 100 == 99:\n",
        "  print(\"100 e 99 são iguais!\")\n",
        "else:\n",
        "  print(\"100 é diferente de 99\")\n"
      ],
      "execution_count": 0,
      "outputs": [
        {
          "output_type": "stream",
          "text": [
            "100 é diferente de 99\n"
          ],
          "name": "stdout"
        }
      ]
    },
    {
      "cell_type": "code",
      "metadata": {
        "id": "VM88dXCpdfpa",
        "colab_type": "code",
        "outputId": "c78b3c0a-9cda-46cc-bd36-78e7ee80cd6a",
        "colab": {
          "base_uri": "https://localhost:8080/",
          "height": 34
        }
      },
      "source": [
        "# IF, ELIF, ELSE\n",
        "if 100 == 99:\n",
        "  print(\"100 e 99 são iguais!\")\n",
        "elif 100 > 99:\n",
        "  print(\"100 é maior que 99!\")\n",
        "else:\n",
        "  print(\"100 é menor que 99!\")"
      ],
      "execution_count": 0,
      "outputs": [
        {
          "output_type": "stream",
          "text": [
            "100 é maior que 99!\n"
          ],
          "name": "stdout"
        }
      ]
    },
    {
      "cell_type": "code",
      "metadata": {
        "id": "gtOpJ0BfhQPa",
        "colab_type": "code",
        "colab": {}
      },
      "source": [
        "# DESAFIO CONDICIONAIS\n",
        "# Faça um Programa que pergunte em que turno você estuda. Peça para digitar M-matutino ou V-Vespertino ou N- Noturno. Imprima a mensagem \"Bom Dia!\", \"Boa Tarde!\" ou \"Boa Noite!\" ou \"Valor Inválido!\", conforme o caso."
      ],
      "execution_count": 0,
      "outputs": []
    },
    {
      "cell_type": "markdown",
      "metadata": {
        "id": "fc85ML8bcsbR",
        "colab_type": "text"
      },
      "source": [
        "## Repetição"
      ]
    },
    {
      "cell_type": "code",
      "metadata": {
        "id": "Nfb90GWEcuRU",
        "colab_type": "code",
        "outputId": "1db9837c-28e5-4d73-bf4c-3c413102e650",
        "colab": {
          "base_uri": "https://localhost:8080/",
          "height": 119
        }
      },
      "source": [
        "# FOR\n",
        "for x in range(0,12,2):\n",
        "  print(x)"
      ],
      "execution_count": 0,
      "outputs": [
        {
          "output_type": "stream",
          "text": [
            "0\n",
            "2\n",
            "4\n",
            "6\n",
            "8\n",
            "10\n"
          ],
          "name": "stdout"
        }
      ]
    },
    {
      "cell_type": "code",
      "metadata": {
        "id": "-xotKE8ShlRy",
        "colab_type": "code",
        "outputId": "bb5ca876-e131-453c-8971-08b3b4e51aa7",
        "colab": {
          "base_uri": "https://localhost:8080/",
          "height": 136
        }
      },
      "source": [
        "palavra = \"PALAVRA\"\n",
        "for letra in palavra:\n",
        "  print(letra)"
      ],
      "execution_count": 0,
      "outputs": [
        {
          "output_type": "stream",
          "text": [
            "P\n",
            "A\n",
            "L\n",
            "A\n",
            "V\n",
            "R\n",
            "A\n"
          ],
          "name": "stdout"
        }
      ]
    },
    {
      "cell_type": "code",
      "metadata": {
        "id": "a4X4aY2Xhem0",
        "colab_type": "code",
        "outputId": "29b222de-547e-48c4-97ee-2119f6149f5d",
        "colab": {
          "base_uri": "https://localhost:8080/",
          "height": 102
        }
      },
      "source": [
        "# WHILE\n",
        "num = 0\n",
        "while num < 5:\n",
        "       print(num)\n",
        "       num   = num + 1"
      ],
      "execution_count": 0,
      "outputs": [
        {
          "output_type": "stream",
          "text": [
            "0\n",
            "1\n",
            "2\n",
            "3\n",
            "4\n"
          ],
          "name": "stdout"
        }
      ]
    },
    {
      "cell_type": "code",
      "metadata": {
        "id": "sWINJQ81dThC",
        "colab_type": "code",
        "colab": {}
      },
      "source": [
        "# DESAFIO REPETIÇÃO\n",
        "# A série de Fibonacci é formada pela seqüência 1,1,2,3,5,8,13,21,34,55,... Faça um programa capaz de gerar a série até o n−ésimo termo.\n",
        "# qual numero voce deseja receber a sequencia fibonacci? 34\n"
      ],
      "execution_count": 0,
      "outputs": []
    },
    {
      "cell_type": "markdown",
      "metadata": {
        "id": "lm-dZvAocvaa",
        "colab_type": "text"
      },
      "source": [
        "## Funções"
      ]
    },
    {
      "cell_type": "code",
      "metadata": {
        "id": "vfQJFzuncxuz",
        "colab_type": "code",
        "outputId": "4981245c-8417-4f5c-8e0b-a013d82891a7",
        "colab": {
          "base_uri": "https://localhost:8080/",
          "height": 34
        }
      },
      "source": [
        "palavra = \"PALAVRA\"\n",
        "palavra.upper()"
      ],
      "execution_count": 0,
      "outputs": [
        {
          "output_type": "execute_result",
          "data": {
            "text/plain": [
              "'PALAVRA'"
            ]
          },
          "metadata": {
            "tags": []
          },
          "execution_count": 20
        }
      ]
    },
    {
      "cell_type": "code",
      "metadata": {
        "id": "BkpGqILGjjzE",
        "colab_type": "code",
        "colab": {}
      },
      "source": [
        "def RaizQuadrada(x):\n",
        "  return x**2"
      ],
      "execution_count": 0,
      "outputs": []
    },
    {
      "cell_type": "code",
      "metadata": {
        "id": "n953bAgMju_J",
        "colab_type": "code",
        "outputId": "8f4aeafa-677e-4648-acd3-a083c90817ca",
        "colab": {
          "base_uri": "https://localhost:8080/",
          "height": 34
        }
      },
      "source": [
        "RaizQuadrada(2)"
      ],
      "execution_count": 0,
      "outputs": [
        {
          "output_type": "execute_result",
          "data": {
            "text/plain": [
              "4"
            ]
          },
          "metadata": {
            "tags": []
          },
          "execution_count": 22
        }
      ]
    },
    {
      "cell_type": "code",
      "metadata": {
        "id": "IWE_rUvBigeT",
        "colab_type": "code",
        "colab": {}
      },
      "source": [
        "# DESAFIO FUNÇÕES\n",
        "# Reverso do número. Faça uma função que retorne o reverso de um número inteiro informado. Por exemplo: 127 -> 721."
      ],
      "execution_count": 0,
      "outputs": []
    }
  ]
}